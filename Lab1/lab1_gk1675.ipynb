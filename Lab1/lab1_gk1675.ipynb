{
 "cells": [
  {
   "cell_type": "markdown",
   "metadata": {},
   "source": [
    "# ECE-GY 9163 Lab1 Guandong Kou (gk1675)"
   ]
  },
  {
   "cell_type": "markdown",
   "metadata": {},
   "source": [
    "The description of this lab is re-organized in this [Google doc](https://docs.google.com/document/d/1wp9a-ns_xwh2_x5FIJFrzo0JQZdOY9Dwtg9LXW8pYVw)"
   ]
  },
  {
   "cell_type": "markdown",
   "metadata": {},
   "source": [
    "rename 'part10' to 'validation_set' at `lemm_stop` directory\n",
    "```!mv part10 validation_set```"
   ]
  },
  {
   "cell_type": "code",
   "execution_count": 14,
   "metadata": {},
   "outputs": [],
   "source": [
    "# load dataset\n",
    "from glob import glob\n",
    "spam_files = glob('data/lemm_stop/part*/spmsga[0-9]*.txt')\n",
    "ham_files = glob('data/lemm_stop/part*/[0-9]*-[0-9]*msg[0-9]*.txt')"
   ]
  },
  {
   "cell_type": "code",
   "execution_count": 16,
   "metadata": {},
   "outputs": [
    {
     "data": {
      "text/plain": [
       "(166, 2170)"
      ]
     },
     "execution_count": 16,
     "metadata": {},
     "output_type": "execute_result"
    }
   ],
   "source": [
    "len(spam_files), len(ham_files)"
   ]
  },
  {
   "cell_type": "code",
   "execution_count": null,
   "metadata": {},
   "outputs": [],
   "source": []
  },
  {
   "cell_type": "code",
   "execution_count": 4,
   "metadata": {},
   "outputs": [],
   "source": [
    "files = os.listdir('data/lemm_stop/')\n",
    "file_path = 'data/lemm_stop/'"
   ]
  },
  {
   "cell_type": "code",
   "execution_count": 6,
   "metadata": {},
   "outputs": [
    {
     "name": "stdout",
     "output_type": "stream",
     "text": [
      "data/lemm_stop/part1\n",
      "data/lemm_stop/part2\n",
      "data/lemm_stop/part3\n",
      "data/lemm_stop/part4\n",
      "data/lemm_stop/part5\n",
      "data/lemm_stop/part6\n",
      "data/lemm_stop/part7\n",
      "data/lemm_stop/part8\n",
      "data/lemm_stop/part9\n"
     ]
    }
   ],
   "source": [
    "for i in range(1, 10):\n",
    "    f = file_path + 'part' + str(i)\n",
    "    print(f)"
   ]
  },
  {
   "cell_type": "code",
   "execution_count": null,
   "metadata": {},
   "outputs": [],
   "source": []
  }
 ],
 "metadata": {
  "kernelspec": {
   "display_name": "Python 3",
   "language": "python",
   "name": "python3"
  },
  "language_info": {
   "codemirror_mode": {
    "name": "ipython",
    "version": 3
   },
   "file_extension": ".py",
   "mimetype": "text/x-python",
   "name": "python",
   "nbconvert_exporter": "python",
   "pygments_lexer": "ipython3",
   "version": "3.8.5"
  }
 },
 "nbformat": 4,
 "nbformat_minor": 4
}
